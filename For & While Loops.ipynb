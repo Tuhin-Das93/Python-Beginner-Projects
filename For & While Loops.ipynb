{
 "cells": [
  {
   "cell_type": "markdown",
   "id": "ed6672fc",
   "metadata": {},
   "source": [
    "Write a program to keep asking for a number until you enter a negative number. At the end, print the sum of all entered numbers."
   ]
  },
  {
   "cell_type": "code",
   "execution_count": 28,
   "id": "fd811cdd",
   "metadata": {},
   "outputs": [
    {
     "name": "stdout",
     "output_type": "stream",
     "text": [
      "Enter a number: 4\n",
      "Please try again\n",
      "5\n",
      "Please try again\n",
      "78\n",
      "Please try again\n",
      "15\n",
      "Please try again\n",
      "9\n",
      "Please try again\n",
      "-1\n",
      "End\n",
      "Sum of all entered numbers are: 110\n"
     ]
    }
   ],
   "source": [
    "n = int(input(\"Enter a number: \"))\n",
    "c = []\n",
    "while n >= 0:\n",
    "    print(\"Please try again\")\n",
    "    c.append(n)\n",
    "    n = int(input())\n",
    "    if n<0:\n",
    "        print(\"End\")\n",
    "        c.append(n)\n",
    "        break\n",
    "c = sum(c)\n",
    "print(\"Sum of all entered numbers are:\", c)"
   ]
  },
  {
   "cell_type": "markdown",
   "id": "b6b5743b",
   "metadata": {},
   "source": [
    "Write a program to ask for a name until the user enters END. Print the name each time. When you are done, print \"I am done.\""
   ]
  },
  {
   "cell_type": "code",
   "execution_count": 34,
   "id": "f2b2d4c6",
   "metadata": {},
   "outputs": [
    {
     "name": "stdout",
     "output_type": "stream",
     "text": [
      "What is your name sir? juno\n",
      "juno\n",
      "What is your name sir? tuhin\n",
      "tuhin\n",
      "What is your name sir? samantha\n",
      "samantha\n",
      "What is your name sir? end\n",
      "I am done\n"
     ]
    }
   ],
   "source": [
    "name = input(\"What is your name sir? \")\n",
    "while name not in ['end', 'END']:\n",
    "    print(name)\n",
    "    name = input(\"What is your name sir? \")\n",
    "    if name in ('end', 'END'):\n",
    "        print(\"I am done\")"
   ]
  },
  {
   "cell_type": "markdown",
   "id": "f998ba0e",
   "metadata": {},
   "source": [
    "Calculate the sum of all numbers from 1 to a given number"
   ]
  },
  {
   "cell_type": "code",
   "execution_count": 39,
   "id": "b9ebe6ee",
   "metadata": {},
   "outputs": [
    {
     "name": "stdout",
     "output_type": "stream",
     "text": [
      "Enter a number: 5\n",
      "sum of all numbers from 1 to 5 is: 15\n"
     ]
    }
   ],
   "source": [
    "num = int(input(\"Enter a number: \"))\n",
    "sum1 = []\n",
    "\n",
    "for i in range(1, num+1):\n",
    "    sum1.append(i)\n",
    "sum1 = sum(sum1)\n",
    "print(f\"sum of all numbers from 1 to {num} is:\", sum1)"
   ]
  },
  {
   "cell_type": "markdown",
   "id": "cf081ed2",
   "metadata": {},
   "source": [
    "Print the following pattern"
   ]
  },
  {
   "cell_type": "code",
   "execution_count": 49,
   "id": "a787e9f1",
   "metadata": {},
   "outputs": [
    {
     "name": "stdout",
     "output_type": "stream",
     "text": [
      "Enter a number: 5\n",
      "1 \t\n",
      "1 2 \t\n",
      "1 2 3 \t\n",
      "1 2 3 4 \t\n",
      "1 2 3 4 5 \t\n"
     ]
    }
   ],
   "source": [
    "num = int(input(\"Enter a number: \"))\n",
    "for i in range(1, num+1):\n",
    "    for j in range(1, i+1):\n",
    "        print(j, end=\" \")\n",
    "    print('\\t')"
   ]
  },
  {
   "cell_type": "markdown",
   "id": "205ee5d3",
   "metadata": {},
   "source": [
    "Print First 10 natural numbers using while loop"
   ]
  },
  {
   "cell_type": "code",
   "execution_count": 50,
   "id": "28b7b0d9",
   "metadata": {},
   "outputs": [
    {
     "name": "stdout",
     "output_type": "stream",
     "text": [
      "1\n",
      "2\n",
      "3\n",
      "4\n",
      "5\n",
      "6\n",
      "7\n",
      "8\n",
      "9\n",
      "10\n"
     ]
    }
   ],
   "source": [
    "num = 10\n",
    "i = 1\n",
    "\n",
    "while(i<=num):\n",
    "    print(i)\n",
    "    i+=1"
   ]
  },
  {
   "cell_type": "code",
   "execution_count": null,
   "id": "5d933781",
   "metadata": {},
   "outputs": [],
   "source": []
  }
 ],
 "metadata": {
  "kernelspec": {
   "display_name": "Python 3",
   "language": "python",
   "name": "python3"
  },
  "language_info": {
   "codemirror_mode": {
    "name": "ipython",
    "version": 3
   },
   "file_extension": ".py",
   "mimetype": "text/x-python",
   "name": "python",
   "nbconvert_exporter": "python",
   "pygments_lexer": "ipython3",
   "version": "3.8.8"
  }
 },
 "nbformat": 4,
 "nbformat_minor": 5
}
