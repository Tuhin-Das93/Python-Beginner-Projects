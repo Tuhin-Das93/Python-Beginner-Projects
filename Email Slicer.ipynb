{
 "cells": [
  {
   "cell_type": "code",
   "execution_count": 1,
   "id": "66f0b037",
   "metadata": {},
   "outputs": [
    {
     "name": "stdout",
     "output_type": "stream",
     "text": [
      "Enter Your Email: tuhin.8373@gmail.com\n",
      "Your user name is 'tuhin.8373' and your domain is 'gmail.com'\n"
     ]
    }
   ],
   "source": [
    "email = input(\"Enter Your Email: \").strip()\n",
    "username = email[:email.index(\"@\")]\n",
    "domain_name = email[email.index(\"@\")+1:]\n",
    "breakdown = (f\"Your user name is '{username}' and your domain is '{domain_name}'\")\n",
    "print(breakdown)"
   ]
  },
  {
   "cell_type": "markdown",
   "id": "de47c29f",
   "metadata": {},
   "source": [
    "### Interpreting the above code in python into English"
   ]
  },
  {
   "cell_type": "markdown",
   "id": "9c291929",
   "metadata": {},
   "source": [
    "- Step 1: Store the email id inside a variable, let's say \"email\"\n",
    "- Step 2: Breakdown the email id into username and domain name by using slicing along with index function\n",
    "- Step 3: Print it out as a text message"
   ]
  },
  {
   "cell_type": "code",
   "execution_count": null,
   "id": "d9b03ce8",
   "metadata": {},
   "outputs": [],
   "source": []
  }
 ],
 "metadata": {
  "kernelspec": {
   "display_name": "Python 3",
   "language": "python",
   "name": "python3"
  },
  "language_info": {
   "codemirror_mode": {
    "name": "ipython",
    "version": 3
   },
   "file_extension": ".py",
   "mimetype": "text/x-python",
   "name": "python",
   "nbconvert_exporter": "python",
   "pygments_lexer": "ipython3",
   "version": "3.8.8"
  }
 },
 "nbformat": 4,
 "nbformat_minor": 5
}
