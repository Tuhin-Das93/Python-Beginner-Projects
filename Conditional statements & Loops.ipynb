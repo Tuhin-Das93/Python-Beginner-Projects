{
 "cells": [
  {
   "cell_type": "markdown",
   "id": "24ad6ee7",
   "metadata": {},
   "source": [
    "Write a Python program to find those numbers which are divisible by 7 and multiple of 5, between 1500 and 2700 (both included)"
   ]
  },
  {
   "cell_type": "code",
   "execution_count": 5,
   "id": "9c33ed30",
   "metadata": {},
   "outputs": [
    {
     "name": "stdout",
     "output_type": "stream",
     "text": [
      "[1505, 1540, 1575, 1610, 1645, 1680, 1715, 1750, 1785, 1820, 1855, 1890, 1925, 1960, 1995, 2030, 2065, 2100, 2135, 2170, 2205, 2240, 2275, 2310, 2345, 2380, 2415, 2450, 2485, 2520, 2555, 2590, 2625, 2660, 2695]\n"
     ]
    }
   ],
   "source": [
    "list1 = []\n",
    "for i in range(1500, 2701):\n",
    "    if (i%7==0) & (i%5==0):\n",
    "        list1.append(i)\n",
    "print(list1)"
   ]
  },
  {
   "cell_type": "markdown",
   "id": "95301ee9",
   "metadata": {},
   "source": [
    " Write a Python program to convert temperatures to and from celsius, fahrenheit.\n",
    "[ Formula : c/5 = f-32/9 [ where c = temperature in celsius and f = temperature in fahrenheit ]"
   ]
  },
  {
   "cell_type": "code",
   "execution_count": 25,
   "id": "f381be57",
   "metadata": {},
   "outputs": [
    {
     "name": "stdout",
     "output_type": "stream",
     "text": [
      "enter a number5\n",
      "Enter 'c' or 'f' to decide: c\n",
      "41.0\n"
     ]
    }
   ],
   "source": [
    "num1 = float(input(\"enter a number\"))\n",
    "choice = input(\"Enter 'c' or 'f' to decide: \")\n",
    "\n",
    "if choice in ['c', 'C']:\n",
    "    celcius = (((num1*9)/5)+32)\n",
    "    print(celcius)\n",
    "else:\n",
    "    fahren = (((num1-32)*5)/9)\n",
    "    print(fahren)"
   ]
  },
  {
   "cell_type": "code",
   "execution_count": 35,
   "id": "2e1aa80f",
   "metadata": {},
   "outputs": [
    {
     "name": "stdout",
     "output_type": "stream",
     "text": [
      "Enter a number: 5\n",
      "* \n",
      "* * \n",
      "* * * \n",
      "* * * * \n",
      "* * * * * \n",
      "* * * * \n",
      "* * * \n",
      "* * \n",
      "* \n"
     ]
    }
   ],
   "source": [
    "num = int(input(\"Enter a number: \"))\n",
    "\n",
    "for i in range(1, num+1):\n",
    "    for j in range(i):\n",
    "        print(\"* \", end=\"\")\n",
    "    print('\\r')\n",
    "for i in range(num-1, 0, -1):    \n",
    "    for k in range(i):\n",
    "        print(\"* \", end=\"\")\n",
    "    print('\\r')"
   ]
  },
  {
   "cell_type": "markdown",
   "id": "8d0304fb",
   "metadata": {},
   "source": [
    "Write a Python program that accepts a word from the user and reverse it"
   ]
  },
  {
   "cell_type": "code",
   "execution_count": 56,
   "id": "fc9cd7c3",
   "metadata": {},
   "outputs": [
    {
     "name": "stdout",
     "output_type": "stream",
     "text": [
      "Enter a word: word\n",
      "drow"
     ]
    }
   ],
   "source": [
    "word = input(\"Enter a word: \")\n",
    "l = list(word)\n",
    "\n",
    "for i in range(len(l)-1, -1, -1):\n",
    "    for j in l[i]:\n",
    "        print(j, end=\"\")"
   ]
  },
  {
   "cell_type": "markdown",
   "id": "aef64c6d",
   "metadata": {},
   "source": [
    "Write a Python program to count the number of even and odd numbers from a series of numbers."
   ]
  },
  {
   "cell_type": "code",
   "execution_count": 58,
   "id": "de3a05ae",
   "metadata": {},
   "outputs": [
    {
     "name": "stdout",
     "output_type": "stream",
     "text": [
      "Number of even numbers 4\n",
      "Number of odd numbers 5\n"
     ]
    }
   ],
   "source": [
    "list1 = [1, 2, 3, 4, 5, 6, 7, 8, 9]\n",
    "even = []\n",
    "odd = []\n",
    "\n",
    "for i in list1:\n",
    "    if i%2==0:\n",
    "        even.append(i)\n",
    "    else:\n",
    "        odd.append(i)\n",
    "print(\"Number of even numbers\", len(even))\n",
    "print(\"Number of odd numbers\", len(odd))"
   ]
  },
  {
   "cell_type": "markdown",
   "id": "8485e236",
   "metadata": {},
   "source": [
    "Write a Python program that prints all the numbers from 0 to 6 except 3 and 6"
   ]
  },
  {
   "cell_type": "code",
   "execution_count": 67,
   "id": "170f6d1d",
   "metadata": {},
   "outputs": [
    {
     "name": "stdout",
     "output_type": "stream",
     "text": [
      "0 1 2 4 5 "
     ]
    }
   ],
   "source": [
    "for i in range(0,7):\n",
    "    if (i==3) or (i==6):\n",
    "        continue\n",
    "    else:\n",
    "        print(i, end=\" \")"
   ]
  },
  {
   "cell_type": "markdown",
   "id": "b3d1d9d5",
   "metadata": {},
   "source": [
    "Write a Python program that accepts a string and calculate the number of digits and letters"
   ]
  },
  {
   "cell_type": "code",
   "execution_count": 71,
   "id": "f37f0df2",
   "metadata": {},
   "outputs": [
    {
     "name": "stdout",
     "output_type": "stream",
     "text": [
      "Enter a string: tuhin 3.2\n",
      "Number of digits =  2\n",
      "Number of letters =  5\n"
     ]
    }
   ],
   "source": [
    "word = input(\"Enter a string: \")\n",
    "\n",
    "d=0\n",
    "l=0\n",
    "\n",
    "for i in word:\n",
    "    if i.isdigit():\n",
    "        d+=1\n",
    "    elif i.isalpha():\n",
    "        l+=1\n",
    "    else:\n",
    "        pass\n",
    "print(\"Number of digits = \", d)\n",
    "print(\"Number of letters = \", l)"
   ]
  }
 ],
 "metadata": {
  "kernelspec": {
   "display_name": "Python 3",
   "language": "python",
   "name": "python3"
  },
  "language_info": {
   "codemirror_mode": {
    "name": "ipython",
    "version": 3
   },
   "file_extension": ".py",
   "mimetype": "text/x-python",
   "name": "python",
   "nbconvert_exporter": "python",
   "pygments_lexer": "ipython3",
   "version": "3.8.8"
  }
 },
 "nbformat": 4,
 "nbformat_minor": 5
}
