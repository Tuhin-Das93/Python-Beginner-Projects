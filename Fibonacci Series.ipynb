{
 "cells": [
  {
   "cell_type": "code",
   "execution_count": 23,
   "id": "688221c1",
   "metadata": {},
   "outputs": [
    {
     "name": "stdout",
     "output_type": "stream",
     "text": [
      "4\n",
      "the fibonacci series:\n",
      "0\n",
      "1\n",
      "1\n",
      "2\n"
     ]
    }
   ],
   "source": [
    "# 5 = 0,1,1,2,3\n",
    "\n",
    "n = int(input())\n",
    "first = 0\n",
    "second = 1\n",
    "\n",
    "count = 0\n",
    "if n<=0:\n",
    "    print(\"enter a valid number\")\n",
    "elif n==1:\n",
    "    print(first)\n",
    "else:\n",
    "    print(\"the fibonacci series:\")\n",
    "    while(count<n):\n",
    "        print(first)\n",
    "        nth = first+second\n",
    "        first = second\n",
    "        second = nth\n",
    "        count = count+1\n",
    "        "
   ]
  },
  {
   "cell_type": "code",
   "execution_count": null,
   "id": "c2d4238e",
   "metadata": {},
   "outputs": [],
   "source": []
  }
 ],
 "metadata": {
  "kernelspec": {
   "display_name": "Python 3",
   "language": "python",
   "name": "python3"
  },
  "language_info": {
   "codemirror_mode": {
    "name": "ipython",
    "version": 3
   },
   "file_extension": ".py",
   "mimetype": "text/x-python",
   "name": "python",
   "nbconvert_exporter": "python",
   "pygments_lexer": "ipython3",
   "version": "3.8.8"
  }
 },
 "nbformat": 4,
 "nbformat_minor": 5
}
