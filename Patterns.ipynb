{
 "cells": [
  {
   "cell_type": "code",
   "execution_count": 1,
   "id": "ede6d4ad",
   "metadata": {},
   "outputs": [
    {
     "name": "stdout",
     "output_type": "stream",
     "text": [
      "enter a number: 5\n",
      "* \n",
      "* * \n",
      "* * * \n",
      "* * * * \n",
      "* * * * * \n"
     ]
    }
   ],
   "source": [
    "n = int(input(\"enter a number: \"))\n",
    "\n",
    "for i in range(1,n+1):\n",
    "    for j in range(i):\n",
    "        print(\"* \", end=\"\")\n",
    "    print('\\r')"
   ]
  },
  {
   "cell_type": "markdown",
   "id": "652c09bd",
   "metadata": {},
   "source": [
    "The outer loop returns the rows while the inner loop returns the columns"
   ]
  },
  {
   "cell_type": "code",
   "execution_count": 2,
   "id": "98a534aa",
   "metadata": {},
   "outputs": [
    {
     "name": "stdout",
     "output_type": "stream",
     "text": [
      "enter a number: 5\n",
      "* * * * * \n",
      "* * * * \n",
      "* * * \n",
      "* * \n",
      "* \n"
     ]
    }
   ],
   "source": [
    "k = int(input(\"enter a number: \"))\n",
    "\n",
    "for i in range(k, 0, -1):\n",
    "    for j in range(i):\n",
    "        print(\"* \", end=\"\")\n",
    "    print('\\r')"
   ]
  },
  {
   "cell_type": "code",
   "execution_count": 3,
   "id": "1a1360c5",
   "metadata": {},
   "outputs": [
    {
     "name": "stdout",
     "output_type": "stream",
     "text": [
      "       *\r\n",
      "     * *\r\n",
      "   * * *\r\n",
      " * * * *\r\n"
     ]
    }
   ],
   "source": [
    "def func_patt(l):\n",
    "    k = 2*l - 2\n",
    "\n",
    "    # Outer loop to handle number of rows\n",
    "    for i in range(0,l):\n",
    "\n",
    "        # inner loop to handle number of spaces\n",
    "        for j in range(0,k):\n",
    "            print(\" \", end=\"\")\n",
    "        k = k-2\n",
    "        for j in range(0, i+1):\n",
    "            print(\" *\", end=\"\")\n",
    "        print(\"\\r\")\n",
    "func_patt(4)"
   ]
  },
  {
   "cell_type": "code",
   "execution_count": 4,
   "id": "b7393266",
   "metadata": {},
   "outputs": [
    {
     "name": "stdout",
     "output_type": "stream",
     "text": [
      "    *\r\n",
      "   **\r\n",
      "  ***\r\n",
      " ****\r\n",
      "*****\r\n"
     ]
    }
   ],
   "source": [
    "def func_patt(l):\n",
    "    k = l - 1\n",
    "\n",
    "    # Outer loop to handle number of rows\n",
    "    for i in range(0,l):\n",
    "\n",
    "        # inner loop to handle number of spaces\n",
    "        for j in range(0,k):\n",
    "            print(\" \", end=\"\")\n",
    "        k = k-1\n",
    "        for j in range(0, i+1):\n",
    "            print(\"*\", end=\"\")\n",
    "        print(\"\\r\")\n",
    "func_patt(5)"
   ]
  },
  {
   "cell_type": "code",
   "execution_count": 5,
   "id": "0f1300f7",
   "metadata": {},
   "outputs": [
    {
     "name": "stdout",
     "output_type": "stream",
     "text": [
      "     *\r\n",
      "    * *\r\n",
      "   * * *\r\n",
      "  * * * *\r\n",
      " * * * * *\r\n"
     ]
    }
   ],
   "source": [
    "def func_patt(l):\n",
    "    k = l - 1\n",
    "\n",
    "    # Outer loop to handle number of rows\n",
    "    for i in range(0,l):\n",
    "\n",
    "        # inner loop to handle number of spaces\n",
    "        for j in range(0,k):\n",
    "            print(\" \", end=\"\")\n",
    "        k = k-1\n",
    "        for j in range(0, i+1):\n",
    "            print(\" *\", end=\"\")\n",
    "        print(\"\\r\")\n",
    "func_patt(5)"
   ]
  },
  {
   "cell_type": "code",
   "execution_count": 6,
   "id": "f493fc7b",
   "metadata": {},
   "outputs": [
    {
     "name": "stdout",
     "output_type": "stream",
     "text": [
      "5\n",
      "1 \n",
      "1 2 \n",
      "1 2 3 \n",
      "1 2 3 4 \n",
      "1 2 3 4 5 \n"
     ]
    }
   ],
   "source": [
    "n = int(input())\n",
    "num = 1\n",
    "for i in range(n):\n",
    "    num=1 # re-assigning the num to reboot the process again\n",
    "    for j in range(0, i+1):\n",
    "        print(num, end=\" \")\n",
    "        num = num+1\n",
    "    print(\"\\r\")"
   ]
  },
  {
   "cell_type": "code",
   "execution_count": 7,
   "id": "49959634",
   "metadata": {},
   "outputs": [
    {
     "name": "stdout",
     "output_type": "stream",
     "text": [
      "5\n",
      "1 \n",
      "2 3 \n",
      "4 5 6 \n",
      "7 8 9 10 \n",
      "11 12 13 14 15 \n"
     ]
    }
   ],
   "source": [
    "n = int(input())\n",
    "num = 1\n",
    "for i in range(n):\n",
    "    for j in range(0, i+1):\n",
    "        print(num, end=\" \")\n",
    "        num = num+1\n",
    "    print(\"\\r\")"
   ]
  },
  {
   "cell_type": "code",
   "execution_count": 8,
   "id": "8e513133",
   "metadata": {},
   "outputs": [
    {
     "name": "stdout",
     "output_type": "stream",
     "text": [
      "5\n",
      "A \n",
      "A B \n",
      "A B C \n",
      "A B C D \n",
      "A B C D E \n"
     ]
    }
   ],
   "source": [
    "n = int(input())\n",
    "num = 65\n",
    "for i in range(n):\n",
    "    num=65 # re-assigning the num to reboot the process again\n",
    "    for j in range(0, i+1):\n",
    "        ch = chr(num)\n",
    "        print(ch, end=\" \")\n",
    "        num = num+1\n",
    "    print(\"\\r\")"
   ]
  },
  {
   "cell_type": "code",
   "execution_count": 9,
   "id": "bf7cd26b",
   "metadata": {},
   "outputs": [
    {
     "name": "stdout",
     "output_type": "stream",
     "text": [
      "A \r\n",
      "B B \r\n",
      "C C C \r\n",
      "D D D D \r\n",
      "E E E E E \r\n"
     ]
    }
   ],
   "source": [
    "# Function to demonstrate printing pattern of alphabets\n",
    "def alphapat(n):\n",
    "     \n",
    "    # initializing value corresponding to 'A'\n",
    "    # ASCII value\n",
    "    num = 65\n",
    " \n",
    "    # outer loop to handle number of rows\n",
    "    # 5 in this case\n",
    "    for i in range(0, n):\n",
    "     \n",
    "        # inner loop to handle number of columns\n",
    "        # values changing acc. to outer loop\n",
    "        for j in range(0, i+1):\n",
    "         \n",
    "            # explicitly converting to char\n",
    "            ch = chr(num)\n",
    "         \n",
    "            # printing char value\n",
    "            print(ch, end=\" \")\n",
    "     \n",
    "        # incrementing number\n",
    "        num = num + 1\n",
    "     \n",
    "        # ending line after each row\n",
    "        print(\"\\r\")\n",
    " \n",
    "# Driver Code\n",
    "n = 5\n",
    "alphapat(n)"
   ]
  },
  {
   "cell_type": "code",
   "execution_count": 10,
   "id": "7d8cf5a1",
   "metadata": {},
   "outputs": [
    {
     "name": "stdout",
     "output_type": "stream",
     "text": [
      "A \r\n",
      "B C \r\n",
      "D E F \r\n",
      "G H I J \r\n",
      "K L M N O \r\n"
     ]
    }
   ],
   "source": [
    "# Function to demonstrate printing pattern of alphabets\n",
    "def  contalpha(n):\n",
    "     \n",
    "    # initializing value corresponding to 'A'\n",
    "    # ASCII value\n",
    "    num = 65\n",
    " \n",
    "    # outer loop to handle number of rows\n",
    "    for i in range(0, n):\n",
    "     \n",
    "        # inner loop to handle number of columns\n",
    "        # values changing acc. to outer loop\n",
    "        for j in range(0, i+1):\n",
    "         \n",
    "            # explicitly converting to char\n",
    "            ch = chr(num)\n",
    "         \n",
    "            # printing char value\n",
    "            print(ch, end=\" \")\n",
    "         \n",
    "            # incrementing at each column\n",
    "            num = num +1\n",
    "     \n",
    "     \n",
    "        # ending line after each row\n",
    "        print(\"\\r\")\n",
    " \n",
    "# Driver code\n",
    "n = 5\n",
    "contalpha(n)"
   ]
  },
  {
   "cell_type": "code",
   "execution_count": null,
   "id": "10f9920a",
   "metadata": {},
   "outputs": [],
   "source": []
  }
 ],
 "metadata": {
  "kernelspec": {
   "display_name": "Python 3",
   "language": "python",
   "name": "python3"
  },
  "language_info": {
   "codemirror_mode": {
    "name": "ipython",
    "version": 3
   },
   "file_extension": ".py",
   "mimetype": "text/x-python",
   "name": "python",
   "nbconvert_exporter": "python",
   "pygments_lexer": "ipython3",
   "version": "3.8.8"
  }
 },
 "nbformat": 4,
 "nbformat_minor": 5
}
