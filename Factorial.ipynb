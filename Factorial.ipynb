{
 "cells": [
  {
   "cell_type": "code",
   "execution_count": 2,
   "id": "afa4c951",
   "metadata": {},
   "outputs": [
    {
     "name": "stdout",
     "output_type": "stream",
     "text": [
      "5\n",
      "120\n"
     ]
    }
   ],
   "source": [
    "n = int(input())\n",
    "fact = 1\n",
    "for i in range(1, n+1):\n",
    "    fact = fact*i\n",
    "    \n",
    "print(fact)"
   ]
  },
  {
   "cell_type": "markdown",
   "id": "4b156156",
   "metadata": {},
   "source": [
    "### Interpreting the python code into english language"
   ]
  },
  {
   "cell_type": "markdown",
   "id": "728bc0a1",
   "metadata": {},
   "source": [
    "- Step 1: Understand the concept of factorial\n",
    "- Step 2: store an integer value inside a variable\n",
    "- Step 3: Declare a variable, let's say \"fact\" as 1\n",
    "- Step 4: Start the iteration process by using for loop\n",
    "    - a: run the for loop starting from 1 to n+1 (Because by default, the index starts from 0, so we have to explicitly mention that the first index value is 1)\n",
    "    - b: store the values in the variable fact by multiplying every iterator with fact\n",
    "- Step 5: Print the fact`"
   ]
  },
  {
   "cell_type": "code",
   "execution_count": null,
   "id": "16dfae25",
   "metadata": {},
   "outputs": [],
   "source": []
  }
 ],
 "metadata": {
  "kernelspec": {
   "display_name": "Python 3",
   "language": "python",
   "name": "python3"
  },
  "language_info": {
   "codemirror_mode": {
    "name": "ipython",
    "version": 3
   },
   "file_extension": ".py",
   "mimetype": "text/x-python",
   "name": "python",
   "nbconvert_exporter": "python",
   "pygments_lexer": "ipython3",
   "version": "3.8.8"
  }
 },
 "nbformat": 4,
 "nbformat_minor": 5
}
