{
 "cells": [
  {
   "cell_type": "markdown",
   "id": "bd96f36c",
   "metadata": {},
   "source": [
    "### Project 1: Acronyms using For Loop"
   ]
  },
  {
   "cell_type": "code",
   "execution_count": 2,
   "id": "a1d95e1a",
   "metadata": {},
   "outputs": [
    {
     "name": "stdout",
     "output_type": "stream",
     "text": [
      "Enter a phrase:machine learning\n",
      "ML\n"
     ]
    }
   ],
   "source": [
    "word = str(input(\"Enter a phrase:\"))\n",
    "text = word.split()\n",
    "\n",
    "a = \"\"\n",
    "\n",
    "for i in text:\n",
    "    a = a+str(i[0]).upper()\n",
    "\n",
    "print(a)"
   ]
  },
  {
   "cell_type": "markdown",
   "id": "44aace37",
   "metadata": {},
   "source": [
    "### How to interpret the above python code into english"
   ]
  },
  {
   "cell_type": "markdown",
   "id": "2ab64857",
   "metadata": {},
   "source": [
    "- Step 1: Store a sentence/phrase into a variable called 'word'\n",
    "- Step 2: Split the word whenever the programme sees an empty space. By default the separator is empty space. You can mention things like _, \\, *, basically everything.\n",
    "- Step 3: The function of split is to convert the string into list.\n",
    "- Step 4: Create a variable called 'a' containing \"\" as element\n",
    "- Step 5: The for loop will start and will go through each element present in the list, starting from index = 0.\n",
    "- Step 6: Let's understand the iteration process\n",
    "    - a) i will take the index of position 0 and will take the first element of the list array\n",
    "    - b) a will store a =\"\" along with the uppercase of first alphabet of first element\n",
    "    - c) a will now have the value of first alphabet of first element and now because of the for loop iteration, the second element in text list will be stored in variable 'a'."
   ]
  },
  {
   "cell_type": "code",
   "execution_count": null,
   "id": "df06138a",
   "metadata": {},
   "outputs": [],
   "source": []
  }
 ],
 "metadata": {
  "kernelspec": {
   "display_name": "Python 3",
   "language": "python",
   "name": "python3"
  },
  "language_info": {
   "codemirror_mode": {
    "name": "ipython",
    "version": 3
   },
   "file_extension": ".py",
   "mimetype": "text/x-python",
   "name": "python",
   "nbconvert_exporter": "python",
   "pygments_lexer": "ipython3",
   "version": "3.8.8"
  }
 },
 "nbformat": 4,
 "nbformat_minor": 5
}
